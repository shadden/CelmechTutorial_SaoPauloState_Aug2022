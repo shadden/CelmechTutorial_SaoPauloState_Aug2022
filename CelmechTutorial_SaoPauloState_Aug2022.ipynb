{
 "cells": [
  {
   "cell_type": "markdown",
   "id": "11593974",
   "metadata": {
    "slideshow": {
     "slide_type": "slide"
    }
   },
   "source": [
    "# Celestial mechanics with the `celmech` code\n",
    "\n",
    "**Sam Hadden** (CITA)\n",
    "\n",
    "Collaborators: **Dan Tamayo** (Princeton), **David Hernandez** (CfA)\n"
   ]
  },
  {
   "cell_type": "code",
   "execution_count": 1,
   "id": "39167040",
   "metadata": {
    "slideshow": {
     "slide_type": "-"
    }
   },
   "outputs": [],
   "source": [
    "%matplotlib inline\n",
    "import matplotlib.pyplot as plt\n",
    "import numpy as np\n",
    "from sympy import init_printing\n",
    "init_printing()"
   ]
  },
  {
   "cell_type": "markdown",
   "id": "8a49d3eb",
   "metadata": {
    "slideshow": {
     "slide_type": "slide"
    }
   },
   "source": [
    "# What is `celmech`?\n",
    "\n",
    "- Code for celestial mechanics calculations\n",
    "    - Calculate disturbing function expansion\n",
    "    - Construct, manipulate, and integrate Hamiltonian equations of motion\n",
    "    - Much more...\n",
    "- Developed mainly in `python`\n",
    "- Designed to work with the [`rebound`](https://github.com/hannorein/rebound) N-body code (Rein & Liu 2012)\n",
    "- Symbolic mathematics with [`sympy`](https://www.sympy.org/en/index.html) (Meurer et. al. 2017)"
   ]
  },
  {
   "cell_type": "markdown",
   "id": "73cc72fd",
   "metadata": {
    "slideshow": {
     "slide_type": "slide"
    }
   },
   "source": [
    "# Where is `celmech`?\n",
    "\n",
    "- PyPI: ``pip install celmech``\n",
    "- GitHub reposity at [github.com/shadden/celmech](https://github.com/shadden/celmech) \n",
    "    - Includes lots of Jupyter notebook examples\n",
    "- Documentation at [celmech.readthedocs.io](https://celmech.readthedocs.io)\n",
    "- This notebook is available on [GitHub](https://github.com/shadden/CelmechTutorial_SaoPauloState_Aug2022)!"
   ]
  },
  {
   "cell_type": "markdown",
   "id": "987b53d5",
   "metadata": {
    "slideshow": {
     "slide_type": "slide"
    }
   },
   "source": [
    "# Basic principles\n",
    " - $N$-body codes like `rebound` integrate equations of motion directly:\n",
    "    $$\n",
    "    \\dot{\\mathbf{r}}_i = \\frac{1}{m_i}\\mathbf{p_i}\\\\\n",
    "    \\dot{\\mathbf{p}}_i = -\\sum_{i\\ne j}Gm_im_j\\frac{(\\mathbf{r}_i - \\mathbf{r}_j)}{|\\mathbf{r}_i - \\mathbf{r}_j|^3}\n",
    "    $$\n"
   ]
  },
  {
   "cell_type": "markdown",
   "id": "d8907e76",
   "metadata": {
    "slideshow": {
     "slide_type": "slide"
    }
   },
   "source": [
    "# Basic principles\n",
    "- `celmech` works with approximate equations of motion.\n",
    "    - Derived from disturbing function expansion of Hamiltonian in powers of $e$ and $s = \\sin(I/2)$:\n",
    " $$\n",
    " \\begin{multline}\n",
    " -\\frac{Gm_im_j}{|\\mathbf{r}_i - \\mathbf{r}_j |} +\\mathrm{indirect~terms^*}\n",
    " =\\\\ \n",
    " -\\frac{Gm_im_j}{a_j}\n",
    "      \\sum_{\\bf k}     \n",
    "     \\sum_{\\nu_1,\\nu_2,\\nu_3,\\nu_4=0}^\\infty                       \n",
    "     \\tilde{C}_{\\bf k}^{{\\nu}}(\\alpha)\n",
    "     s_i^{|k_5|+2\\nu_1}\n",
    "     s_j^{|k_6|+2\\nu_2}\n",
    "     e_i^{|k_3|+2\\nu_3}\n",
    "     e_i^{|k_4|+2\\nu_4}\n",
    "     \\\\\n",
    "     \\times \\cos(k_1\\lambda_j+k_2\\lambda_i+k_3\\varpi_i+k_4\\varpi_j+k_5\\Omega_i+k_6\\Omega_j)\n",
    " \\end{multline}\n",
    "$$\n",
    "\n",
    "\n",
    "- Equations formulated in canonical \"action-angle\" variables\n",
    "- Allows theoretical insights and potentially faster integration\n",
    "\n",
    "'*': coodinate-system dependent"
   ]
  },
  {
   "cell_type": "markdown",
   "id": "bda578c1",
   "metadata": {
    "slideshow": {
     "slide_type": "slide"
    }
   },
   "source": [
    "# An example\n",
    "A system of two Earth-mass planets near a 3:2 mean motion resonance"
   ]
  },
  {
   "cell_type": "code",
   "execution_count": 2,
   "id": "2fb0f468",
   "metadata": {
    "slideshow": {
     "slide_type": "-"
    }
   },
   "outputs": [
    {
     "data": {
      "image/png": "[encoded data removed]",
      "text/plain": [
       "<Figure size 360x360 with 1 Axes>"
      ]
     },
     "metadata": {
      "needs_background": "light"
     },
     "output_type": "display_data"
    }
   ],
   "source": [
    "import rebound\n",
    "rebound_sim = rebound.Simulation()\n",
    "rebound_sim.add(m=1)\n",
    "rebound_sim.add(m=3e-6,P = 1, e = 0.04)\n",
    "rebound_sim.add(m=3e-6,P = 3 / 2, e = 0.02,l=0.5,pomega = np.pi+1)\n",
    "\n",
    "rebound.OrbitPlot(rebound_sim,color=True,periastron=True);"
   ]
  },
  {
   "cell_type": "code",
   "execution_count": 3,
   "id": "26380d30",
   "metadata": {
    "slideshow": {
     "slide_type": "skip"
    }
   },
   "outputs": [],
   "source": [
    "#make an extra copy of our simulation for higher-order model later\n",
    "sim2=rebound_sim.copy()"
   ]
  },
  {
   "cell_type": "markdown",
   "id": "49f27b08",
   "metadata": {
    "slideshow": {
     "slide_type": "slide"
    }
   },
   "source": [
    "# Initializing a ``celmech`` model \n",
    "- Create `Poincare` and `PoincareHamiltonian` instances\n",
    "- Initialize directly from a ``rebound`` simulation"
   ]
  },
  {
   "cell_type": "code",
   "execution_count": 4,
   "id": "489fe341",
   "metadata": {
    "slideshow": {
     "slide_type": "-"
    }
   },
   "outputs": [],
   "source": [
    "from celmech import Poincare, PoincareHamiltonian\n",
    "poincare_particles = Poincare.from_Simulation(rebound_sim)\n",
    "Hp = PoincareHamiltonian(poincare_particles)"
   ]
  },
  {
   "cell_type": "markdown",
   "id": "c88f9e9b",
   "metadata": {
    "slideshow": {
     "slide_type": "slide"
    }
   },
   "source": [
    "# The ``Poincare`` class \n",
    "- Represents system in terms of canonical variable pairs:\n",
    " $$\\begin{align}\n",
    " \\Lambda_i&= \\mu_i\\sqrt{GM_ia_i} ~;~ \\lambda_i \\\\\n",
    " (\\eta_i,\\kappa_i)&\\approx \\sqrt{\\Lambda_i}e_i \\times(-\\sin\\varpi_i,\\cos\\varpi_i)\\\\\n",
    "  (\\rho_i,\\sigma_i)&\\approx \\sqrt{\\Lambda_i}\\sin(I_i/2) \\times(-\\sin\\Omega_i,\\cos\\Omega_i)\\\\\n",
    " \\end{align}$$"
   ]
  },
  {
   "cell_type": "code",
   "execution_count": 5,
   "id": "b7139380",
   "metadata": {},
   "outputs": [
    {
     "data": {
      "text/plain": [
       "celmech.poincare.Poincare"
      ]
     },
     "execution_count": 5,
     "metadata": {},
     "output_type": "execute_result"
    }
   ],
   "source": [
    "type(poincare_particles)"
   ]
  },
  {
   "cell_type": "code",
   "execution_count": 6,
   "id": "dc8ab64f",
   "metadata": {},
   "outputs": [
    {
     "data": {
      "text/latex": [
       "$\\displaystyle \\left[ \\left( \\lambda_{1}, \\  \\Lambda_{1}\\right), \\  \\left( \\eta_{1}, \\  \\kappa_{1}\\right), \\  \\left( \\rho_{1}, \\  \\sigma_{1}\\right), \\  \\left( \\lambda_{2}, \\  \\Lambda_{2}\\right), \\  \\left( \\eta_{2}, \\  \\kappa_{2}\\right), \\  \\left( \\rho_{2}, \\  \\sigma_{2}\\right)\\right]$"
      ],
      "text/plain": [
       "[(λ₁, Λ₁), (η₁, κ₁), (ρ₁, σ₁), (λ₂, Λ₂), (η₂, κ₂), (ρ₂, σ₂)]"
      ]
     },
     "execution_count": 6,
     "metadata": {},
     "output_type": "execute_result"
    }
   ],
   "source": [
    "qp_pairs = poincare_particles.qp_pairs\n",
    "qp_pairs"
   ]
  },
  {
   "cell_type": "markdown",
   "id": "2d1aa6d7",
   "metadata": {
    "slideshow": {
     "slide_type": "slide"
    }
   },
   "source": [
    "# The ``Poincare`` class \n",
    "- Stores numerical values of canonical variables"
   ]
  },
  {
   "cell_type": "code",
   "execution_count": 7,
   "id": "a6d7b253",
   "metadata": {},
   "outputs": [
    {
     "data": {
      "text/latex": [
       "$\\displaystyle \\left( \\Lambda_{1}, \\  1.62577278057523 \\cdot 10^{-6}\\right)$"
      ],
      "text/plain": [
       "(Λ₁, 1.625772780575234e-06)"
      ]
     },
     "execution_count": 7,
     "metadata": {},
     "output_type": "execute_result"
    }
   ],
   "source": [
    "Lambda1 = qp_pairs[0][1]\n",
    "Lambda1, poincare_particles.qp[Lambda1]"
   ]
  },
  {
   "cell_type": "markdown",
   "id": "346f309f",
   "metadata": {},
   "source": [
    "- Also provides orbital mass, orbital elements, etc."
   ]
  },
  {
   "cell_type": "code",
   "execution_count": 8,
   "id": "a7925cc0",
   "metadata": {},
   "outputs": [
    {
     "data": {
      "text/latex": [
       "$\\displaystyle 1.62577278057523 \\cdot 10^{-6}$"
      ],
      "text/plain": [
       "1.625772780575234e-06"
      ]
     },
     "execution_count": 8,
     "metadata": {},
     "output_type": "execute_result"
    }
   ],
   "source": [
    "G = poincare_particles.G\n",
    "particle = poincare_particles.particles[1]\n",
    "particle.mu * np.sqrt(G * particle.M * particle.a)"
   ]
  },
  {
   "cell_type": "markdown",
   "id": "b5d6adb7",
   "metadata": {
    "slideshow": {
     "slide_type": "slide"
    }
   },
   "source": [
    "# The ``PoincareHamiltonian`` class \n",
    "- Represents a planetary system's Hamiltonian\n"
   ]
  },
  {
   "cell_type": "code",
   "execution_count": 9,
   "id": "dbc17beb",
   "metadata": {},
   "outputs": [
    {
     "data": {
      "text/plain": [
       "celmech.poincare.PoincareHamiltonian"
      ]
     },
     "execution_count": 9,
     "metadata": {},
     "output_type": "execute_result"
    }
   ],
   "source": [
    "type(Hp)"
   ]
  },
  {
   "cell_type": "markdown",
   "id": "8972918d",
   "metadata": {},
   "source": [
    "- The ``H`` attribute stores the symbolic Hamiltonian\n",
    "    - Keplerian terms upon intialization "
   ]
  },
  {
   "cell_type": "code",
   "execution_count": 10,
   "id": "20f966bc",
   "metadata": {
    "slideshow": {
     "slide_type": "-"
    }
   },
   "outputs": [
    {
     "data": {
      "text/latex": [
       "$\\displaystyle - \\frac{G^{2} M_{2}^{2} \\mu_{2}^{3}}{2 \\Lambda_{2}^{2}} - \\frac{G^{2} M_{1}^{2} \\mu_{1}^{3}}{2 \\Lambda_{1}^{2}}$"
      ],
      "text/plain": [
       "   2   2   3    2   2   3\n",
       "  G ⋅M₂ ⋅μ₂    G ⋅M₁ ⋅μ₁ \n",
       "- ────────── - ──────────\n",
       "        2            2   \n",
       "    2⋅Λ₂         2⋅Λ₁    "
      ]
     },
     "execution_count": 10,
     "metadata": {},
     "output_type": "execute_result"
    }
   ],
   "source": [
    "Hp.H"
   ]
  },
  {
   "cell_type": "markdown",
   "id": "db11d294",
   "metadata": {},
   "source": [
    " - Or, in orbital elements: \n",
    " $$\n",
    " -\\frac{Gm_*m_1}{2a_1}-\\frac{Gm_*m_2}{2a_2}\n",
    " $$"
   ]
  },
  {
   "cell_type": "markdown",
   "id": "64fd2654",
   "metadata": {
    "slideshow": {
     "slide_type": "slide"
    }
   },
   "source": [
    "# The ``PoincareHamiltonian`` class \n",
    "- Stores numerical values of symbolic parameters as well"
   ]
  },
  {
   "cell_type": "code",
   "execution_count": 11,
   "id": "e3263a5c",
   "metadata": {
    "slideshow": {
     "slide_type": "-"
    }
   },
   "outputs": [
    {
     "data": {
      "text/latex": [
       "$\\displaystyle - \\frac{1.34999595001215 \\cdot 10^{-17}}{\\Lambda_{2}^{2}} - \\frac{1.34999595001215 \\cdot 10^{-17}}{\\Lambda_{1}^{2}}$"
      ],
      "text/plain": [
       "  1.34999595001215e-17   1.34999595001215e-17\n",
       "- ──────────────────── - ────────────────────\n",
       "            2                      2         \n",
       "          Λ₂                     Λ₁          "
      ]
     },
     "execution_count": 11,
     "metadata": {},
     "output_type": "execute_result"
    }
   ],
   "source": [
    "Hp.N_H"
   ]
  },
  {
   "cell_type": "markdown",
   "id": "18b04358",
   "metadata": {
    "slideshow": {
     "slide_type": "slide"
    }
   },
   "source": [
    "# Building a Hamiltonian\n",
    "- Users build up a Hamiltonian by selecting and adding disturbing function terms\n",
    "- ``PoincareHamiltonian`` includes an extensive interface for specifying and adding terms\n",
    "- We'll add terms for the 3:2 MMR"
   ]
  },
  {
   "cell_type": "code",
   "execution_count": 12,
   "id": "321f3d6c",
   "metadata": {
    "slideshow": {
     "slide_type": "-"
    }
   },
   "outputs": [],
   "source": [
    "Hp.add_MMR_terms(p=3,q=1,max_order=1,indexIn=1,indexOut=2)"
   ]
  },
  {
   "cell_type": "markdown",
   "id": "b241a61d",
   "metadata": {},
   "source": [
    "- The symbolic Hamiltonian is updated with the newly-added terms"
   ]
  },
  {
   "cell_type": "code",
   "execution_count": 13,
   "id": "a0c48654",
   "metadata": {
    "slideshow": {
     "slide_type": "-"
    }
   },
   "outputs": [
    {
     "data": {
      "text/latex": [
       "$\\displaystyle - \\frac{C_{(3,-2,-1,0,0,0)}^{(0,0,0,0),(0,0)}(\\alpha_{1,2}) G m_{1} m_{2} \\left(\\frac{\\eta_{1} \\sin{\\left(2 \\lambda_{1} - 3 \\lambda_{2} \\right)}}{\\sqrt{\\Lambda_{1,0}}} + \\frac{\\kappa_{1} \\cos{\\left(2 \\lambda_{1} - 3 \\lambda_{2} \\right)}}{\\sqrt{\\Lambda_{1,0}}}\\right)}{a_{2,0}} - \\frac{C_{(3,-2,0,-1,0,0)}^{(0,0,0,0),(0,0)}(\\alpha_{1,2}) G m_{1} m_{2} \\left(\\frac{\\eta_{2} \\sin{\\left(2 \\lambda_{1} - 3 \\lambda_{2} \\right)}}{\\sqrt{\\Lambda_{2,0}}} + \\frac{\\kappa_{2} \\cos{\\left(2 \\lambda_{1} - 3 \\lambda_{2} \\right)}}{\\sqrt{\\Lambda_{2,0}}}\\right)}{a_{2,0}} - \\frac{G^{2} M_{2}^{2} \\mu_{2}^{3}}{2 \\Lambda_{2}^{2}} - \\frac{G^{2} M_{1}^{2} \\mu_{1}^{3}}{2 \\Lambda_{1}^{2}}$"
      ],
      "text/plain": [
       "                                                               ⎛η₁⋅sin(2⋅λ₁ - 3⋅λ₂)   κ₁⋅cos(2⋅λ₁ - 3⋅λ₂)⎞                                \n",
       "  C_{(3,-2,-1,0,0,0)}_{1,2})__{(0,0,0,0),(0,0)}(\\alpha⋅G⋅m₁⋅m₂⋅⎜─────────────────── + ───────────────────⎟   C_{(3,-2,0,-1,0,0)}_{1,2})__{\n",
       "                                                               ⎜   _______________       _______________ ⎟                                \n",
       "                                                               ⎝ ╲╱ \\Lambda_{1,0}      ╲╱ \\Lambda_{1,0}  ⎠                                \n",
       "- ──────────────────────────────────────────────────────────────────────────────────────────────────────── - ─────────────────────────────\n",
       "                                                  a_{2,0}                                                                                 \n",
       "                                                                                                                                          \n",
       "\n",
       "                                ⎛η₂⋅sin(2⋅λ₁ - 3⋅λ₂)   κ₂⋅cos(2⋅λ₁ - 3⋅λ₂)⎞                          \n",
       "(0,0,0,0),(0,0)}(\\alpha⋅G⋅m₁⋅m₂⋅⎜─────────────────── + ───────────────────⎟                          \n",
       "                                ⎜   _______________       _______________ ⎟    2   2   3    2   2   3\n",
       "                                ⎝ ╲╱ \\Lambda_{2,0}      ╲╱ \\Lambda_{2,0}  ⎠   G ⋅M₂ ⋅μ₂    G ⋅M₁ ⋅μ₁ \n",
       "─────────────────────────────────────────────────────────────────────────── - ────────── - ──────────\n",
       "                   a_{2,0}                                                          2            2   \n",
       "                                                                                2⋅Λ₂         2⋅Λ₁    "
      ]
     },
     "execution_count": 13,
     "metadata": {},
     "output_type": "execute_result"
    }
   ],
   "source": [
    "Hp.H"
   ]
  },
  {
   "cell_type": "markdown",
   "id": "28029d62",
   "metadata": {
    "slideshow": {
     "slide_type": "slide"
    }
   },
   "source": [
    "# Building a Hamiltonian\n",
    "- Equivalent in terms of orbital elements:"
   ]
  },
  {
   "cell_type": "code",
   "execution_count": 14,
   "id": "fae70678",
   "metadata": {
    "slideshow": {
     "slide_type": "-"
    }
   },
   "outputs": [
    {
     "data": {
      "text/latex": [
       "$\\displaystyle -\\frac{Gm_1m_2}{a_{2,0}}\\tilde{C}_{(3,-2,0,-1,0,0)}^{(0,0,0,0)}(\\alpha_{1,2})e_2\\cos(3\\lambda_2-2\\lambda_1-\\varpi_2)-\\frac{Gm_1m_2}{a_{2,0}}\\tilde{C}_{(3,-2,-1,0,0,0)}^{(0,0,0,0)}(\\alpha_{1,2})e_1\\cos(3\\lambda_2-2\\lambda_1-\\varpi_1)$"
      ],
      "text/plain": [
       "<IPython.core.display.Math object>"
      ]
     },
     "metadata": {},
     "output_type": "display_data"
    }
   ],
   "source": [
    "Hp.df"
   ]
  },
  {
   "cell_type": "markdown",
   "id": "85f0b54a",
   "metadata": {
    "slideshow": {
     "slide_type": "slide"
    }
   },
   "source": [
    "# Integrating Hamilton's equations\n",
    " - Equations of motion automatically generated from the Hamiltonian\n",
    " - Integration and particle interface designed to mirror ``rebound``"
   ]
  },
  {
   "cell_type": "code",
   "execution_count": 15,
   "id": "7120ae69",
   "metadata": {
    "slideshow": {
     "slide_type": "-"
    }
   },
   "outputs": [],
   "source": [
    "rebound_particles = rebound_sim.particles\n",
    "celmech_particles = Hp.particles\n",
    "\n",
    "# times to save output\n",
    "times = np.linspace(0,500 * rebound_particles[1].P,100)\n",
    "\n",
    "# Arrays to store results\n",
    "eIn_rebound,eIn_celmech = np.zeros((2,100))\n",
    "\n",
    "# Main integration loop\n",
    "for i,t in enumerate(times):\n",
    "    rebound_sim.integrate(t)\n",
    "    Hp.integrate(t)\n",
    "    # save eccentricity of inner planet\n",
    "    eIn_rebound[i] = rebound_particles[1].e\n",
    "    eIn_celmech[i] = celmech_particles[1].e\n",
    "    "
   ]
  },
  {
   "cell_type": "markdown",
   "id": "8c140948",
   "metadata": {
    "slideshow": {
     "slide_type": "slide"
    }
   },
   "source": [
    "# Comparing $N$-body and ``celmech``\n",
    "- The simple ``celmech`` model shows fair agreement with direct $N$-body integration"
   ]
  },
  {
   "cell_type": "code",
   "execution_count": 16,
   "id": "1ceeb39c",
   "metadata": {
    "slideshow": {
     "slide_type": "-"
    },
    "tags": [
     "to_remove"
    ]
   },
   "outputs": [
    {
     "data": {
      "image/png": "[encoded data removed]",
      "text/plain": [
       "<Figure size 576x360 with 1 Axes>"
      ]
     },
     "metadata": {
      "needs_background": "light"
     },
     "output_type": "display_data"
    }
   ],
   "source": [
    "fig,ax = plt.subplots(1,sharex=True,figsize=(8,5))\n",
    "plt.tick_params(labelsize=15,direction='in',size=8)\n",
    "ax.plot(times,eIn_rebound,color='k',lw=2,label='rebound')\n",
    "ax.plot(times,eIn_celmech,color='r',lw=2,label='celmech')\n",
    "ax.set_ylabel(r\"$e$\",fontsize=20)\n",
    "ax.legend(fontsize=12)\n",
    "ax.set_xlabel(r\"Time [$P_\\mathrm{in}$]\",fontsize=20);"
   ]
  },
  {
   "cell_type": "markdown",
   "id": "ba14fa7f",
   "metadata": {
    "slideshow": {
     "slide_type": "slide"
    }
   },
   "source": [
    "# Making a more accurate ``celmech`` model\n",
    "Now we'll include:\n",
    "- Secular terms up to 2nd order in planets' eccentricities\n",
    "- 3:2 resonant terms up to 3rd order in planets' eccentricities"
   ]
  },
  {
   "cell_type": "code",
   "execution_count": 17,
   "id": "4f751b86",
   "metadata": {
    "slideshow": {
     "slide_type": "skip"
    }
   },
   "outputs": [],
   "source": [
    "pvars = Poincare.from_Simulation(sim2)\n",
    "Hp = PoincareHamiltonian(pvars)"
   ]
  },
  {
   "cell_type": "code",
   "execution_count": 18,
   "id": "81a7e43c",
   "metadata": {
    "scrolled": false
   },
   "outputs": [],
   "source": [
    "Hp.add_secular_terms(max_order=2,indexIn=1,indexOut=2,inclinations=False)\n",
    "Hp.add_MMR_terms(p=3,q=1,max_order=3,indexIn=1,indexOut=2,inclinations=False)"
   ]
  },
  {
   "cell_type": "markdown",
   "id": "a6c1337c",
   "metadata": {
    "slideshow": {
     "slide_type": "slide"
    }
   },
   "source": [
    "# Terms included in the improved model\n",
    "Many more disturbing function terms are now included:\n",
    "\n",
    "- Secular terms:\n",
    "$$\n",
    "\\tilde{C}_{(0,0,0,0,0,0)}^{(0,0,0,1)}(\\alpha_{1,2})e_2^2\n",
    "+\\tilde{C}_{(0,0,0,0,0,0)}^{(0,0,1,0)}(\\alpha_{1,2})e_1^2\n",
    "+\\tilde{C}_{(0,0,-1,1,0,0)}^{(0,0,0,0)}(\\alpha_{1,2})e_1e_2\\cos(-\\varpi_1+\\varpi_2)\n",
    "$$"
   ]
  },
  {
   "cell_type": "markdown",
   "id": "4369d733",
   "metadata": {
    "slideshow": {
     "slide_type": "slide"
    }
   },
   "source": [
    "# ...\n",
    "\n",
    "- 6:4 terms:\n",
    "$$\n",
    "\\tilde{C}_{(6,-4,0,-2,0,0)}^{(0,0,0,0)}(\\alpha_{1,2})e_2^2\\cos(6\\lambda_2-4\\lambda_1-2\\varpi_2)\\\\\n",
    "+\\tilde{C}_{(6,-4,-1,-1,0,0)}^{(0,0,0,0)}(\\alpha_{1,2})e_1e_2\\cos(6\\lambda_2-4\\lambda_1-\\varpi_1-\\varpi_2)\\\\\n",
    "+\\tilde{C}_{(6,-4,-2,0,0,0)}^{(0,0,0,0)}(\\alpha_{1,2})e_1^2\\cos(6\\lambda_2-4\\lambda_1-2\\varpi_1)\n",
    "$$"
   ]
  },
  {
   "cell_type": "markdown",
   "id": "53a55670",
   "metadata": {
    "slideshow": {
     "slide_type": "slide"
    }
   },
   "source": [
    "# ...\n",
    "- 9:6 terms:\n",
    "$$\n",
    "\\tilde{C}_{(9,-6,0,-3,0,0)}^{(0,0,0,0)}(\\alpha_{1,2})e_2^3\\cos(9\\lambda_2-6\\lambda_1-3\\varpi_2)\\\\\n",
    "+\n",
    "\\tilde{C}_{(9,-6,-1,-2,0,0)}^{(0,0,0,0)}(\\alpha_{1,2})e_1e_2^2\\cos(9\\lambda_2-6\\lambda_1-\\varpi_1-2\\varpi_2)\n",
    "\\\\\n",
    "+\n",
    "\\tilde{C}_{(9,-6,-2,-1,0,0)}^{(0,0,0,0)}(\\alpha_{1,2})e_1^2e_2\\cos(9\\lambda_2-6\\lambda_1-2\\varpi_1-\\varpi_2)\\\\\n",
    "+\\tilde{C}_{(9,-6,-3,0,0,0)}^{(0,0,0,0)}(\\alpha_{1,2})e_1^3\\cos(9\\lambda_2-6\\lambda_1-3\\varpi_1)\n",
    "$$"
   ]
  },
  {
   "cell_type": "markdown",
   "id": "07b8a4a4",
   "metadata": {
    "slideshow": {
     "slide_type": "slide"
    }
   },
   "source": [
    "# ...\n",
    "- 3rd order 3:2 terms:\n",
    "$$\n",
    "\\left(\\tilde{C}_{(3,-2,0,-1,0,0)}^{(0,0,0,1)}(\\alpha_{1,2})e_2^3 + \n",
    "\\tilde{C}_{(3,-2,0,-1,0,0)}^{(0,0,1,0)}(\\alpha_{1,2})e_1^2e_2\\right)\\cos(3\\lambda_2-2\\lambda_1-\\varpi_2)\\\\\n",
    "+\\left(\\tilde{C}_{(3,-2,-1,0,0,0)}^{(0,0,0,1)}(\\alpha_{1,2})e_1e_2^2\n",
    "+\\tilde{C}_{(3,-2,-1,0,0,0)}^{(0,0,1,0)}(\\alpha_{1,2})e_1^3\\right)\\cos(3\\lambda_2-2\\lambda_1-\\varpi_1)\\\\\n",
    "+\n",
    "\\tilde{C}_{(3,-2,1,-2,0,0)}^{(0,0,0,0)}(\\alpha_{1,2})e_1e_2^2\\cos(3\\lambda_2-2\\lambda_1+\\varpi_1-2\\varpi_2)\\\\\n",
    "+\\tilde{C}_{(3,-2,-2,1,0,0)}^{(0,0,0,0)}(\\alpha_{1,2})e_1^2e_2\\cos(3\\lambda_2-2\\lambda_1-2\\varpi_1+\\varpi_2)\n",
    "$$"
   ]
  },
  {
   "cell_type": "markdown",
   "id": "1d6048d2",
   "metadata": {
    "slideshow": {
     "slide_type": "slide"
    }
   },
   "source": [
    "These terms would be tedious to add by hand..."
   ]
  },
  {
   "cell_type": "code",
   "execution_count": 19,
   "id": "90f06d6d",
   "metadata": {
    "slideshow": {
     "slide_type": "skip"
    }
   },
   "outputs": [],
   "source": [
    "from celmech.lie_transformations import FirstOrderGeneratingFunction\n",
    "chi = FirstOrderGeneratingFunction(pvars)\n",
    "chi.add_zeroth_order_term(indexIn=1,indexOut=2)\n",
    "chi.add_MMR_terms(2,1,indexIn=1,indexOut=2)\n",
    "chi.add_MMR_terms(4,1,indexIn=1,indexOut=2)\n",
    "chi.osculating_to_mean()"
   ]
  },
  {
   "cell_type": "code",
   "execution_count": 20,
   "id": "4e2ae313",
   "metadata": {
    "slideshow": {
     "slide_type": "skip"
    }
   },
   "outputs": [],
   "source": [
    "rebound_particles = sim2.particles\n",
    "celmech_particles = Hp.particles\n",
    "times = np.linspace(0,500 * rebound_particles[1].P,100)\n",
    "eIn_rebound,eIn_celmech = np.zeros((2,100))\n",
    "thetaIn_rebound,thetaIn_celmech = np.zeros((2,100))\n",
    "energy = np.zeros(100)\n",
    "for i,t in enumerate(times):\n",
    "    sim2.integrate(t)\n",
    "    Hp.integrate(t)\n",
    "    energy[i] = Hp.calculate_energy()\n",
    "    eIn_rebound[i] = rebound_particles[1].e\n",
    "    eIn_celmech[i] = celmech_particles[1].e\n",
    "    \n",
    "    thetaIn_rebound[i] = -2*rebound_particles[1].l + 3*rebound_particles[2].l - rebound_particles[1].pomega\n",
    "    thetaIn_celmech[i] = -2*celmech_particles[1].l + 3*celmech_particles[2].l - celmech_particles[1].pomega"
   ]
  },
  {
   "cell_type": "markdown",
   "id": "e030f65a",
   "metadata": {
    "slideshow": {
     "slide_type": "slide"
    }
   },
   "source": [
    "# Improved agreement with higher order model\n",
    "The higher-order model now shows excellent agreement with $N$-body"
   ]
  },
  {
   "cell_type": "code",
   "execution_count": 21,
   "id": "6b76ccd4",
   "metadata": {
    "slideshow": {
     "slide_type": "-"
    },
    "tags": [
     "to_remove"
    ]
   },
   "outputs": [
    {
     "data": {
      "image/png": "[encoded data removed]",
      "text/plain": [
       "<Figure size 576x360 with 1 Axes>"
      ]
     },
     "metadata": {
      "needs_background": "light"
     },
     "output_type": "display_data"
    }
   ],
   "source": [
    "fig,ax = plt.subplots(1,sharex=True,figsize=(8,5))\n",
    "plt.tick_params(labelsize=15,direction='in',size=8)\n",
    "ax.plot(times,eIn_rebound,color='k',lw=2,label='rebound')\n",
    "ax.plot(times,eIn_celmech,color='r',lw=2,label='celmech')\n",
    "ax.set_ylabel(r\"$e$\",fontsize=20)\n",
    "ax.legend(fontsize=12)\n",
    "ax.set_xlabel(r\"Time [$P_\\mathrm{in}$]\",fontsize=20);"
   ]
  },
  {
   "cell_type": "markdown",
   "id": "cec67e3d",
   "metadata": {
    "slideshow": {
     "slide_type": "slide"
    }
   },
   "source": [
    "# A simpler model via canonical transformations\n",
    "- Present ``celmech`` equations involve 12 variables:"
   ]
  },
  {
   "cell_type": "code",
   "execution_count": 22,
   "id": "f826023e",
   "metadata": {},
   "outputs": [
    {
     "data": {
      "text/latex": [
       "$\\displaystyle \\left[ \\lambda_{1}, \\  \\eta_{1}, \\  \\rho_{1}, \\  \\lambda_{2}, \\  \\eta_{2}, \\  \\rho_{2}, \\  \\Lambda_{1}, \\  \\kappa_{1}, \\  \\sigma_{1}, \\  \\Lambda_{2}, \\  \\kappa_{2}, \\  \\sigma_{2}\\right]$"
      ],
      "text/plain": [
       "[λ₁, η₁, ρ₁, λ₂, η₂, ρ₂, Λ₁, κ₁, σ₁, Λ₂, κ₂, σ₂]"
      ]
     },
     "execution_count": 22,
     "metadata": {},
     "output_type": "execute_result"
    }
   ],
   "source": [
    "Hp.qp_vars"
   ]
  },
  {
   "cell_type": "markdown",
   "id": "c0aa0306",
   "metadata": {
    "slideshow": {
     "slide_type": "slide"
    }
   },
   "source": [
    "# A simpler model via canonical transformations\n",
    "$$\\newcommand{pd}[2]{\\frac{\\partial #1}{\\partial #2}}$$\n",
    "- Seek canonical transformation, \n",
    "     $$T : (q_i,p_i)\\rightarrow (\\phi_1,...,\\phi_M,Q_1,Q_{N-M},I_1,...,I_M,P_1,...,P_{N-M})$$\n",
    "   such that the new Hamiltonian, $H' = H \\circ T^{-1}$ does not depend explicitly on the new coordinates, $\\phi_i$.\n",
    "- Hamilton's equations give $$\\dot{I_i}=\\pd{}{\\phi_i}H'=0$$ so that the variables $I_i$ are conserved.\n",
    "- Can consider equations with $N-M$ degrees of freedom: $$\\begin{align}\n",
    "\\dot{Q_i} &= \\pd{}{P_i}H'(Q,P;I)\\\\\n",
    "\\dot{P_i} &= -\\pd{}{Q_i}H'(Q,P;I)\\\\\n",
    "\\end{align}$$ "
   ]
  },
  {
   "cell_type": "markdown",
   "id": "5489d13f",
   "metadata": {
    "slideshow": {
     "slide_type": "slide"
    }
   },
   "source": [
    "# A simpler model via canonical transformations\n",
    " - Present Hamiltonian depends on angle variables only via the combinations\n",
    " $$Q_i = 3\\lambda_2 - 2\\lambda_1 + \\gamma_i$$\n",
    " - We'll use ``celmech`` to transform to new variables\n",
    " $$\n",
    " \\begin{pmatrix}\n",
    " Q_1\\\\\n",
    " Q_2\\\\\n",
    " \\phi_1\\\\\n",
    " \\phi_2\n",
    " \\end{pmatrix} = \n",
    " \\begin{pmatrix}\n",
    " -2 & 3 & 1 & 0 \\\\\n",
    " -2 & 3 & 0 & 1 \\\\\n",
    " -2 & 3 & 0 & 0 \\\\\n",
    " 1 & -1 & 0 & 0\n",
    " \\end{pmatrix}\\cdot\n",
    "  \\begin{pmatrix}\n",
    " \\lambda_1\\\\\n",
    " \\lambda_2\\\\\n",
    " \\gamma_1 \\\\\n",
    " \\gamma_2\n",
    " \\end{pmatrix}\n",
    " $$"
   ]
  },
  {
   "cell_type": "markdown",
   "id": "7b189fa0",
   "metadata": {
    "slideshow": {
     "slide_type": "slide"
    }
   },
   "source": [
    "# A simpler model via canonical transformations\n",
    " - Implement transformation with the `CanonicalTransformation` class"
   ]
  },
  {
   "cell_type": "code",
   "execution_count": 23,
   "id": "075a28eb",
   "metadata": {},
   "outputs": [
    {
     "data": {
      "text/plain": [
       "celmech.canonical_transformations.CanonicalTransformation"
      ]
     },
     "execution_count": 23,
     "metadata": {},
     "output_type": "execute_result"
    }
   ],
   "source": [
    "from celmech import CanonicalTransformation\n",
    "from sympy import symbols\n",
    "T = np.eye(Hp.N_dof,dtype=int)\n",
    "T[0,:4] = [-2,3,1,0]\n",
    "T[1,:4] = [-2,3,0,1]\n",
    "T[2,:4] = [-2,3,0,0]\n",
    "T[3,:4] = [1,-1,0,0]\n",
    "\n",
    "# Symbols to use for new variables\n",
    "new_qs = symbols(\"Q(1:3),phi(1:5)\")\n",
    "new_ps = symbols(\"P(1:3),I(1:5)\")\n",
    "new_qp_pairs = list(zip(new_qs,new_ps))\n",
    "\n",
    "ct = CanonicalTransformation.from_poincare_angles_matrix(Hp.state,T,new_qp_pairs=new_qp_pairs)\n",
    "type(ct)"
   ]
  },
  {
   "cell_type": "markdown",
   "id": "05a50448",
   "metadata": {
    "slideshow": {
     "slide_type": "slide"
    }
   },
   "source": [
    "# A simpler model via canonical transformations\n",
    " - `new_to_old` transforms expressions in terms of new variables to expressions in terms of old variables"
   ]
  },
  {
   "cell_type": "code",
   "execution_count": 24,
   "id": "b3d54e3e",
   "metadata": {},
   "outputs": [
    {
     "data": {
      "text/latex": [
       "$\\displaystyle \\left( Q_{1}, \\  - 2 \\lambda_{1} + 3 \\lambda_{2} + \\operatorname{atan_{2}}{\\left(\\eta_{1},\\kappa_{1} \\right)}\\right)$"
      ],
      "text/plain": [
       "(Q₁, -2⋅λ₁ + 3⋅λ₂ + atan2(η₁, κ₁))"
      ]
     },
     "metadata": {},
     "output_type": "display_data"
    },
    {
     "data": {
      "text/latex": [
       "$\\displaystyle \\left( Q_{2}, \\  - 2 \\lambda_{1} + 3 \\lambda_{2} + \\operatorname{atan_{2}}{\\left(\\eta_{2},\\kappa_{2} \\right)}\\right)$"
      ],
      "text/plain": [
       "(Q₂, -2⋅λ₁ + 3⋅λ₂ + atan2(η₂, κ₂))"
      ]
     },
     "metadata": {},
     "output_type": "display_data"
    },
    {
     "data": {
      "text/latex": [
       "$\\displaystyle \\left( \\phi_{1}, \\  - 2 \\lambda_{1} + 3 \\lambda_{2}\\right)$"
      ],
      "text/plain": [
       "(φ₁, -2⋅λ₁ + 3⋅λ₂)"
      ]
     },
     "metadata": {},
     "output_type": "display_data"
    },
    {
     "data": {
      "text/latex": [
       "$\\displaystyle \\left( \\phi_{2}, \\  \\lambda_{1} - \\lambda_{2}\\right)$"
      ],
      "text/plain": [
       "(φ₂, λ₁ - λ₂)"
      ]
     },
     "metadata": {},
     "output_type": "display_data"
    },
    {
     "data": {
      "text/latex": [
       "$\\displaystyle \\left( \\phi_{3}, \\  \\operatorname{atan_{2}}{\\left(\\rho_{1},\\sigma_{1} \\right)}\\right)$"
      ],
      "text/plain": [
       "(φ₃, atan2(ρ₁, σ₁))"
      ]
     },
     "metadata": {},
     "output_type": "display_data"
    },
    {
     "data": {
      "text/latex": [
       "$\\displaystyle \\left( \\phi_{4}, \\  \\operatorname{atan_{2}}{\\left(\\rho_{2},\\sigma_{2} \\right)}\\right)$"
      ],
      "text/plain": [
       "(φ₄, atan2(ρ₂, σ₂))"
      ]
     },
     "metadata": {},
     "output_type": "display_data"
    }
   ],
   "source": [
    "for q in new_qs:\n",
    "    display((q,ct.new_to_old(q)))"
   ]
  },
  {
   "cell_type": "markdown",
   "id": "b09fbadb",
   "metadata": {
    "slideshow": {
     "slide_type": "slide"
    }
   },
   "source": [
    "# A simpler model via canonical transformations\n",
    " - The `old_to_new_hamiltonian` method produces a new Hamiltonian object"
   ]
  },
  {
   "cell_type": "code",
   "execution_count": 25,
   "id": "0603d819",
   "metadata": {},
   "outputs": [
    {
     "data": {
      "text/plain": [
       "celmech.hamiltonian.Hamiltonian"
      ]
     },
     "execution_count": 25,
     "metadata": {},
     "output_type": "execute_result"
    }
   ],
   "source": [
    "ham_transformed = ct.old_to_new_hamiltonian(Hp,do_reduction=True)\n",
    "type(ham_transformed)"
   ]
  },
  {
   "cell_type": "markdown",
   "id": "350e117c",
   "metadata": {
    "slideshow": {
     "slide_type": "slide"
    }
   },
   "source": [
    "# A simpler model via canonical transformations\n",
    " - The new Hamiltonian is expressed in terms of the new variables"
   ]
  },
  {
   "cell_type": "code",
   "execution_count": 28,
   "id": "fe83775a",
   "metadata": {},
   "outputs": [
    {
     "data": {
      "text/latex": [
       "$\\displaystyle - \\frac{2 C_{(0,0,-1,1,0,0)}^{(0,0,0,0),(0,0)}(\\alpha_{1,2}) G \\sqrt{P_{1}} \\sqrt{P_{2}} m_{1} m_{2} \\cos{\\left(Q_{1} - Q_{2} \\right)}}{\\sqrt{\\Lambda_{1,0}} \\sqrt{\\Lambda_{2,0}} a_{2,0}} - \\frac{2 C_{(0,0,0,0,0,0)}^{(0,0,0,1),(0,0)}(\\alpha_{1,2}) G P_{2} m_{1} m_{2}}{\\Lambda_{2,0} a_{2,0}} - \\frac{2 C_{(0,0,0,0,0,0)}^{(0,0,1,0),(0,0)}(\\alpha_{1,2}) G P_{1} m_{1} m_{2}}{\\Lambda_{1,0} a_{2,0}} - \\frac{\\sqrt{2} C_{(3,-2,-1,0,0,0)}^{(0,0,0,0),(0,0)}(\\alpha_{1,2}) G \\sqrt{P_{1}} m_{1} m_{2} \\cos{\\left(Q_{1} \\right)}}{\\sqrt{\\Lambda_{1,0}} a_{2,0}} - \\frac{2 \\sqrt{2} C_{(3,-2,-1,0,0,0)}^{(0,0,0,1),(0,0)}(\\alpha_{1,2}) G \\sqrt{P_{1}} P_{2} m_{1} m_{2} \\cos{\\left(Q_{1} \\right)}}{\\sqrt{\\Lambda_{1,0}} \\Lambda_{2,0} a_{2,0}} - \\frac{2 \\sqrt{2} C_{(3,-2,-1,0,0,0)}^{(0,0,1,0),(0,0)}(\\alpha_{1,2}) G P_{1}^{\\frac{3}{2}} m_{1} m_{2} \\cos{\\left(Q_{1} \\right)}}{\\Lambda_{1,0}^{\\frac{3}{2}} a_{2,0}} - \\frac{2 \\sqrt{2} C_{(3,-2,-2,1,0,0)}^{(0,0,0,0),(0,0)}(\\alpha_{1,2}) G P_{1} \\sqrt{P_{2}} m_{1} m_{2} \\cos{\\left(2 Q_{1} - Q_{2} \\right)}}{\\Lambda_{1,0} \\sqrt{\\Lambda_{2,0}} a_{2,0}} - \\frac{\\sqrt{2} C_{(3,-2,0,-1,0,0)}^{(0,0,0,0),(0,0)}(\\alpha_{1,2}) G \\sqrt{P_{2}} m_{1} m_{2} \\cos{\\left(Q_{2} \\right)}}{\\sqrt{\\Lambda_{2,0}} a_{2,0}} - \\frac{2 \\sqrt{2} C_{(3,-2,0,-1,0,0)}^{(0,0,0,1),(0,0)}(\\alpha_{1,2}) G P_{2}^{\\frac{3}{2}} m_{1} m_{2} \\cos{\\left(Q_{2} \\right)}}{\\Lambda_{2,0}^{\\frac{3}{2}} a_{2,0}} - \\frac{2 \\sqrt{2} C_{(3,-2,0,-1,0,0)}^{(0,0,1,0),(0,0)}(\\alpha_{1,2}) G P_{1} \\sqrt{P_{2}} m_{1} m_{2} \\cos{\\left(Q_{2} \\right)}}{\\Lambda_{1,0} \\sqrt{\\Lambda_{2,0}} a_{2,0}} - \\frac{2 \\sqrt{2} C_{(3,-2,1,-2,0,0)}^{(0,0,0,0),(0,0)}(\\alpha_{1,2}) G \\sqrt{P_{1}} P_{2} m_{1} m_{2} \\cos{\\left(Q_{1} - 2 Q_{2} \\right)}}{\\sqrt{\\Lambda_{1,0}} \\Lambda_{2,0} a_{2,0}} - \\frac{2 C_{(6,-4,-1,-1,0,0)}^{(0,0,0,0),(0,0)}(\\alpha_{1,2}) G \\sqrt{P_{1}} \\sqrt{P_{2}} m_{1} m_{2} \\cos{\\left(Q_{1} + Q_{2} \\right)}}{\\sqrt{\\Lambda_{1,0}} \\sqrt{\\Lambda_{2,0}} a_{2,0}} - \\frac{2 C_{(6,-4,-2,0,0,0)}^{(0,0,0,0),(0,0)}(\\alpha_{1,2}) G P_{1} m_{1} m_{2} \\cos{\\left(2 Q_{1} \\right)}}{\\Lambda_{1,0} a_{2,0}} - \\frac{2 C_{(6,-4,0,-2,0,0)}^{(0,0,0,0),(0,0)}(\\alpha_{1,2}) G P_{2} m_{1} m_{2} \\cos{\\left(2 Q_{2} \\right)}}{\\Lambda_{2,0} a_{2,0}} - \\frac{2 \\sqrt{2} C_{(9,-6,-1,-2,0,0)}^{(0,0,0,0),(0,0)}(\\alpha_{1,2}) G \\sqrt{P_{1}} P_{2} m_{1} m_{2} \\cos{\\left(Q_{1} + 2 Q_{2} \\right)}}{\\sqrt{\\Lambda_{1,0}} \\Lambda_{2,0} a_{2,0}} - \\frac{2 \\sqrt{2} C_{(9,-6,-2,-1,0,0)}^{(0,0,0,0),(0,0)}(\\alpha_{1,2}) G P_{1} \\sqrt{P_{2}} m_{1} m_{2} \\cos{\\left(2 Q_{1} + Q_{2} \\right)}}{\\Lambda_{1,0} \\sqrt{\\Lambda_{2,0}} a_{2,0}} - \\frac{2 \\sqrt{2} C_{(9,-6,-3,0,0,0)}^{(0,0,0,0),(0,0)}(\\alpha_{1,2}) G P_{1}^{\\frac{3}{2}} m_{1} m_{2} \\cos{\\left(3 Q_{1} \\right)}}{\\Lambda_{1,0}^{\\frac{3}{2}} a_{2,0}} - \\frac{2 \\sqrt{2} C_{(9,-6,0,-3,0,0)}^{(0,0,0,0),(0,0)}(\\alpha_{1,2}) G P_{2}^{\\frac{3}{2}} m_{1} m_{2} \\cos{\\left(3 Q_{2} \\right)}}{\\Lambda_{2,0}^{\\frac{3}{2}} a_{2,0}} - \\frac{G^{2} M_{1}^{2} \\mu_{1}^{3}}{2 \\left(- 2 I_{1} + I_{2} - 2 P_{1} - 2 P_{2}\\right)^{2}} - \\frac{G^{2} M_{2}^{2} \\mu_{2}^{3}}{2 \\left(3 I_{1} - I_{2} + 3 P_{1} + 3 P_{2}\\right)^{2}}$"
      ],
      "text/plain": [
       "                                                            ____   ____                                                                   \n",
       "  2⋅C_{(0,0,-1,1,0,0)}_{1,2})__{(0,0,0,0),(0,0)}(\\alpha⋅G⋅╲╱ P₁ ⋅╲╱ P₂ ⋅m₁⋅m₂⋅cos(Q₁ - Q₂)   2⋅C_{(0,0,0,0,0,0)}_{1,2})__{(0,0,0,1),(0,0)}\n",
       "- ──────────────────────────────────────────────────────────────────────────────────────── - ─────────────────────────────────────────────\n",
       "                          _______________   _______________                                                       \\Lambda_{2,0}⋅a_{2,0}   \n",
       "                        ╲╱ \\Lambda_{1,0} ⋅╲╱ \\Lambda_{2,0} ⋅a_{2,0}                                                                       \n",
       "\n",
       "                                                                                                                                          \n",
       "(\\alpha⋅G⋅P₂⋅m₁⋅m₂   2⋅C_{(0,0,0,0,0,0)}_{1,2})__{(0,0,1,0),(0,0)}(\\alpha⋅G⋅P₁⋅m₁⋅m₂   √2⋅C_{(3,-2,-1,0,0,0)}_{1,2})__{(0,0,0,0),(0,0)}(\\a\n",
       "────────────────── - ─────────────────────────────────────────────────────────────── - ───────────────────────────────────────────────────\n",
       "                                          \\Lambda_{1,0}⋅a_{2,0}                                                    _______________        \n",
       "                                                                                                                 ╲╱ \\Lambda_{1,0} ⋅a_{2,0}\n",
       "\n",
       "         ____                                                                               ____                                          \n",
       "lpha⋅G⋅╲╱ P₁ ⋅m₁⋅m₂⋅cos(Q₁)   2⋅√2⋅C_{(3,-2,-1,0,0,0)}_{1,2})__{(0,0,0,1),(0,0)}(\\alpha⋅G⋅╲╱ P₁ ⋅P₂⋅m₁⋅m₂⋅cos(Q₁)   2⋅√2⋅C_{(3,-2,-1,0,0,0\n",
       "─────────────────────────── - ─────────────────────────────────────────────────────────────────────────────────── - ──────────────────────\n",
       "                                                      _______________                                                                     \n",
       "                                                    ╲╱ \\Lambda_{1,0} ⋅\\Lambda_{2,0}⋅a_{2,0}                                               \n",
       "\n",
       "                                        3/2                                                                                  ____         \n",
       ")}_{1,2})__{(0,0,1,0),(0,0)}(\\alpha⋅G⋅P₁   ⋅m₁⋅m₂⋅cos(Q₁)   2⋅√2⋅C_{(3,-2,-2,1,0,0)}_{1,2})__{(0,0,0,0),(0,0)}(\\alpha⋅G⋅P₁⋅╲╱ P₂ ⋅m₁⋅m₂⋅co\n",
       "───────────────────────────────────────────────────────── - ──────────────────────────────────────────────────────────────────────────────\n",
       "                   3/2                                                                               _______________                      \n",
       "      \\Lambda_{1,0}   ⋅a_{2,0}                                                       \\Lambda_{1,0}⋅╲╱ \\Lambda_{2,0} ⋅a_{2,0}              \n",
       "\n",
       "                                                                           ____                                                           \n",
       "s(2⋅Q₁ - Q₂)   √2⋅C_{(3,-2,0,-1,0,0)}_{1,2})__{(0,0,0,0),(0,0)}(\\alpha⋅G⋅╲╱ P₂ ⋅m₁⋅m₂⋅cos(Q₂)   2⋅√2⋅C_{(3,-2,0,-1,0,0)}_{1,2})__{(0,0,0,1\n",
       "──────────── - ────────────────────────────────────────────────────────────────────────────── - ──────────────────────────────────────────\n",
       "                                           _______________                                                                               3\n",
       "                                         ╲╱ \\Lambda_{2,0} ⋅a_{2,0}                                                          \\Lambda_{2,0} \n",
       "\n",
       "                    3/2                                                                                  ____                             \n",
       "),(0,0)}(\\alpha⋅G⋅P₂   ⋅m₁⋅m₂⋅cos(Q₂)   2⋅√2⋅C_{(3,-2,0,-1,0,0)}_{1,2})__{(0,0,1,0),(0,0)}(\\alpha⋅G⋅P₁⋅╲╱ P₂ ⋅m₁⋅m₂⋅cos(Q₂)   2⋅√2⋅C_{(3,-\n",
       "───────────────────────────────────── - ─────────────────────────────────────────────────────────────────────────────────── - ────────────\n",
       "/2                                                                            _______________                                             \n",
       "  ⋅a_{2,0}                                                    \\Lambda_{1,0}⋅╲╱ \\Lambda_{2,0} ⋅a_{2,0}                                     \n",
       "\n",
       "                                                  ____                                                                                    \n",
       "2,1,-2,0,0)}_{1,2})__{(0,0,0,0),(0,0)}(\\alpha⋅G⋅╲╱ P₁ ⋅P₂⋅m₁⋅m₂⋅cos(Q₁ - 2⋅Q₂)   2⋅C_{(6,-4,-1,-1,0,0)}_{1,2})__{(0,0,0,0),(0,0)}(\\alpha⋅G\n",
       "────────────────────────────────────────────────────────────────────────────── - ─────────────────────────────────────────────────────────\n",
       "               _______________                                                                            _______________   ______________\n",
       "             ╲╱ \\Lambda_{1,0} ⋅\\Lambda_{2,0}⋅a_{2,0}                                                    ╲╱ \\Lambda_{1,0} ⋅╲╱ \\Lambda_{2,0}\n",
       "\n",
       "   ____   ____                                                                                                                            \n",
       "⋅╲╱ P₁ ⋅╲╱ P₂ ⋅m₁⋅m₂⋅cos(Q₁ + Q₂)   2⋅C_{(6,-4,-2,0,0,0)}_{1,2})__{(0,0,0,0),(0,0)}(\\alpha⋅G⋅P₁⋅m₁⋅m₂⋅cos(2⋅Q₁)   2⋅C_{(6,-4,0,-2,0,0)}_{1\n",
       "───────────────────────────────── - ─────────────────────────────────────────────────────────────────────────── - ────────────────────────\n",
       "_                                                              \\Lambda_{1,0}⋅a_{2,0}                                                      \n",
       " ⋅a_{2,0}                                                                                                                                 \n",
       "\n",
       "                                                                                                                     ____                 \n",
       ",2})__{(0,0,0,0),(0,0)}(\\alpha⋅G⋅P₂⋅m₁⋅m₂⋅cos(2⋅Q₂)   2⋅√2⋅C_{(9,-6,-1,-2,0,0)}_{1,2})__{(0,0,0,0),(0,0)}(\\alpha⋅G⋅╲╱ P₁ ⋅P₂⋅m₁⋅m₂⋅cos(Q₁ \n",
       "─────────────────────────────────────────────────── - ────────────────────────────────────────────────────────────────────────────────────\n",
       "   \\Lambda_{2,0}⋅a_{2,0}                                                          _______________                                         \n",
       "                                                                                ╲╱ \\Lambda_{1,0} ⋅\\Lambda_{2,0}⋅a_{2,0}                   \n",
       "\n",
       "                                                                            ____                                                          \n",
       "+ 2⋅Q₂)   2⋅√2⋅C_{(9,-6,-2,-1,0,0)}_{1,2})__{(0,0,0,0),(0,0)}(\\alpha⋅G⋅P₁⋅╲╱ P₂ ⋅m₁⋅m₂⋅cos(2⋅Q₁ + Q₂)   2⋅√2⋅C_{(9,-6,-3,0,0,0)}_{1,2})__{\n",
       "─────── - ─────────────────────────────────────────────────────────────────────────────────────────── - ──────────────────────────────────\n",
       "                                                    _______________                                                                       \n",
       "                                    \\Lambda_{1,0}⋅╲╱ \\Lambda_{2,0} ⋅a_{2,0}                                                          \\Lamb\n",
       "\n",
       "                            3/2                                                                                 3/2                       \n",
       "(0,0,0,0),(0,0)}(\\alpha⋅G⋅P₁   ⋅m₁⋅m₂⋅cos(3⋅Q₁)   2⋅√2⋅C_{(9,-6,0,-3,0,0)}_{1,2})__{(0,0,0,0),(0,0)}(\\alpha⋅G⋅P₂   ⋅m₁⋅m₂⋅cos(3⋅Q₂)       \n",
       "─────────────────────────────────────────────── - ───────────────────────────────────────────────────────────────────────────────── - ────\n",
       "        3/2                                                                                 3/2                                           \n",
       "da_{1,0}   ⋅a_{2,0}                                                            \\Lambda_{2,0}   ⋅a_{2,0}                               2⋅(-\n",
       "\n",
       "       2   2   3                      2   2   3         \n",
       "      G ⋅M₁ ⋅μ₁                      G ⋅M₂ ⋅μ₂          \n",
       "───────────────────────── - ────────────────────────────\n",
       "                        2                              2\n",
       "2⋅I₁ + I₂ - 2⋅P₁ - 2⋅P₂)    2⋅(3⋅I₁ - I₂ + 3⋅P₁ + 3⋅P₂) "
      ]
     },
     "metadata": {},
     "output_type": "display_data"
    }
   ],
   "source": [
    "display(ham_transformed.H)"
   ]
  },
  {
   "cell_type": "markdown",
   "id": "262ece29",
   "metadata": {
    "slideshow": {
     "slide_type": "slide"
    }
   },
   "source": [
    "# A simpler model via canonical transformations\n",
    " - The number of degrees of freedom have been reduced\n",
    " - Conserved quantities are now parameters of the Hamiltonian "
   ]
  },
  {
   "cell_type": "code",
   "execution_count": 27,
   "id": "f81eedc1",
   "metadata": {},
   "outputs": [
    {
     "data": {
      "text/latex": [
       "$\\displaystyle \\left( I_{1}, \\  \\Lambda_{1} + \\Lambda_{2} - \\frac{\\eta_{1}^{2}}{2} - \\frac{\\eta_{2}^{2}}{2} - \\frac{\\kappa_{1}^{2}}{2} - \\frac{\\kappa_{2}^{2}}{2}\\right)$"
      ],
      "text/plain": [
       "⎛                2     2     2     2⎞\n",
       "⎜              η₁    η₂    κ₁    κ₂ ⎟\n",
       "⎜I₁, Λ₁ + Λ₂ - ─── - ─── - ─── - ───⎟\n",
       "⎝               2     2     2     2 ⎠"
      ]
     },
     "metadata": {},
     "output_type": "display_data"
    },
    {
     "data": {
      "text/latex": [
       "$\\displaystyle \\left( I_{2}, \\  3 \\Lambda_{1} + 2 \\Lambda_{2}\\right)$"
      ],
      "text/plain": [
       "(I₂, 3⋅Λ₁ + 2⋅Λ₂)"
      ]
     },
     "metadata": {},
     "output_type": "display_data"
    },
    {
     "data": {
      "text/latex": [
       "$\\displaystyle \\left( I_{3}, \\  \\frac{\\rho_{1}^{2}}{2} + \\frac{\\sigma_{1}^{2}}{2}\\right)$"
      ],
      "text/plain": [
       "⎛      2     2⎞\n",
       "⎜    ρ₁    σ₁ ⎟\n",
       "⎜I₃, ─── + ───⎟\n",
       "⎝     2     2 ⎠"
      ]
     },
     "metadata": {},
     "output_type": "display_data"
    },
    {
     "data": {
      "text/latex": [
       "$\\displaystyle \\left( I_{4}, \\  \\frac{\\rho_{2}^{2}}{2} + \\frac{\\sigma_{2}^{2}}{2}\\right)$"
      ],
      "text/plain": [
       "⎛      2     2⎞\n",
       "⎜    ρ₂    σ₂ ⎟\n",
       "⎜I₄, ─── + ───⎟\n",
       "⎝     2     2 ⎠"
      ]
     },
     "metadata": {},
     "output_type": "display_data"
    }
   ],
   "source": [
    "conserved_quantities = []\n",
    "full_Ps = ham_transformed.full_qp_vars[ham_transformed.full_N_dof:]\n",
    "for P in full_Ps:\n",
    "    if P not in ham_transformed.qp_vars:\n",
    "        qty = ct.new_to_old(P)\n",
    "        conserved_quantities.append(qty)\n",
    "        display((P,qty))"
   ]
  },
  {
   "cell_type": "markdown",
   "id": "e1f850a3",
   "metadata": {
    "slideshow": {
     "slide_type": "slide"
    }
   },
   "source": [
    "\n",
    "# Application: Determine resonant equilibrium configuration\n",
    "- Search for configuration such, $\\frac{d}{dt}{Q_i}=0$ and $\\frac{d}{dt}I_i =0$\n",
    "- Transform back to original variables using `celmech`'s canonical transformations.\n",
    "- Produce `rebound` simulation at resonant equilibrium."
   ]
  },
  {
   "cell_type": "markdown",
   "id": "cf90fa6e",
   "metadata": {
    "slideshow": {
     "slide_type": "slide"
    }
   },
   "source": [
    "\n",
    "# Application: Determine resonant equilibrium configuration\n",
    " - Apply additional canonical transformation $$(P_i,Q_i) \\rightarrow (x_i,y_i):=\\sqrt{2P_i}(\\sin Q_i,\\cos Q_i)$$\n",
    " - Numerically easier to find root $\\frac{d}{dt}(y_1,y_2,x_1,x_2)=0$"
   ]
  },
  {
   "cell_type": "code",
   "execution_count": 30,
   "id": "687b146e",
   "metadata": {},
   "outputs": [],
   "source": [
    "polar_to_cart = CanonicalTransformation.polar_to_cartesian(ham_transformed.full_qp_vars,[0,1])\n",
    "ham_xy = polar_to_cart.old_to_new_hamiltonian(ham_transformed)"
   ]
  },
  {
   "cell_type": "markdown",
   "id": "dd6ad3ba",
   "metadata": {
    "slideshow": {
     "slide_type": "slide"
    }
   },
   "source": [
    "# Application: Resonant equilibrium configuration\n",
    " - The function `ham_xy.flow_func` gives $$\\mathbf{F}(y_1,y_2,x_1,x_2) = \\begin{pmatrix} \\pd{H'}{x_1}\\\\ \\pd{H'}{x_2} \\\\ -\\pd{H'}{y_1}\\\\ -\\pd{H'}{y_2} \\end{pmatrix}$$\n",
    " - The function `ham_xy.jacobian_func` gives the Jacobian matrix $\\nabla\\mathbf{F}$\n",
    " - Use `scipy.optimize.root` to find $(y^*_1,y^*_2,x^*_1,x^*_2)$  such that $\\mathbf{F}(y^*_1,y^*_2,x^*_1,x^*_2)=0$"
   ]
  },
  {
   "cell_type": "code",
   "execution_count": 48,
   "id": "441dbfde",
   "metadata": {},
   "outputs": [],
   "source": [
    "from scipy.optimize import root\n",
    "f = lambda v: ham_xy.flow_func(*v).reshape(-1)\n",
    "Df = lambda v: ham_xy.jacobian_func(*v)\n",
    "root_soln = root(f,np.zeros(4),jac = Df)\n",
    "yx_star = root_soln.x"
   ]
  },
  {
   "cell_type": "markdown",
   "id": "d26616ae",
   "metadata": {
    "slideshow": {
     "slide_type": "slide"
    }
   },
   "source": [
    "# Application: Resonant equilibrium configuration\n",
    " - Set state of `ham_xy` to equilibrium values"
   ]
  },
  {
   "cell_type": "code",
   "execution_count": 50,
   "id": "160637ef",
   "metadata": {},
   "outputs": [
    {
     "name": "stdout",
     "output_type": "stream",
     "text": [
      "[ 8.53650392e-22 -1.62789145e-21  2.20772355e-36  2.66228640e-35]\n"
     ]
    }
   ],
   "source": [
    "# Confirm equlibrium condition\n",
    "ham_xy.state.values = yx_star\n",
    "print(ham_xy.calculate_flow())"
   ]
  },
  {
   "cell_type": "markdown",
   "id": "e4619e58",
   "metadata": {
    "slideshow": {
     "slide_type": "slide"
    }
   },
   "source": [
    "# Application: Resonant equilibrium configuration\n",
    "- Create canonical transformation given by composition of previous transformations"
   ]
  },
  {
   "cell_type": "code",
   "execution_count": 52,
   "id": "96fb4078",
   "metadata": {},
   "outputs": [
    {
     "name": "stdout",
     "output_type": "stream",
     "text": [
      "Old variables:\n"
     ]
    },
    {
     "data": {
      "text/latex": [
       "$\\displaystyle \\left[ \\lambda_{1}, \\  \\eta_{1}, \\  \\rho_{1}, \\  \\lambda_{2}, \\  \\eta_{2}, \\  \\rho_{2}, \\  \\Lambda_{1}, \\  \\kappa_{1}, \\  \\sigma_{1}, \\  \\Lambda_{2}, \\  \\kappa_{2}, \\  \\sigma_{2}\\right]$"
      ],
      "text/plain": [
       "[λ₁, η₁, ρ₁, λ₂, η₂, ρ₂, Λ₁, κ₁, σ₁, Λ₂, κ₂, σ₂]"
      ]
     },
     "metadata": {},
     "output_type": "display_data"
    },
    {
     "name": "stdout",
     "output_type": "stream",
     "text": [
      "New variables:\n"
     ]
    },
    {
     "data": {
      "text/latex": [
       "$\\displaystyle \\left[ y_{1}, \\  y_{2}, \\  \\phi_{1}, \\  \\phi_{2}, \\  \\phi_{3}, \\  \\phi_{4}, \\  x_{1}, \\  x_{2}, \\  I_{1}, \\  I_{2}, \\  I_{3}, \\  I_{4}\\right]$"
      ],
      "text/plain": [
       "[y₁, y₂, φ₁, φ₂, φ₃, φ₄, x₁, x₂, I₁, I₂, I₃, I₄]"
      ]
     },
     "metadata": {},
     "output_type": "display_data"
    }
   ],
   "source": [
    "ct_composite = CanonicalTransformation.composite([ct, polar_to_cart])\n",
    "print(\"Old variables:\")\n",
    "display(ct_composite.old_qp_vars)\n",
    "print(\"New variables:\")\n",
    "display(ct_composite.new_qp_vars)"
   ]
  },
  {
   "cell_type": "markdown",
   "id": "b8322515",
   "metadata": {
    "slideshow": {
     "slide_type": "slide"
    }
   },
   "source": [
    "# Application: Resonant equilibrium configuration\n",
    "- Apply inverse transformation to new variable values"
   ]
  },
  {
   "cell_type": "code",
   "execution_count": 53,
   "id": "02c7a894",
   "metadata": {},
   "outputs": [],
   "source": [
    "new_var_values = ham_xy.full_values\n",
    "old_var_values = ct_composite.new_to_old_array(new_var_values)"
   ]
  },
  {
   "cell_type": "code",
   "execution_count": null,
   "id": "bad4f28d",
   "metadata": {},
   "outputs": [],
   "source": []
  }
 ],
 "metadata": {
  "celltoolbar": "Slideshow",
  "kernelspec": {
   "display_name": "Python 3 (ipykernel)",
   "language": "python",
   "name": "python3"
  },
  "language_info": {
   "codemirror_mode": {
    "name": "ipython",
    "version": 3
   },
   "file_extension": ".py",
   "mimetype": "text/x-python",
   "name": "python",
   "nbconvert_exporter": "python",
   "pygments_lexer": "ipython3",
   "version": "3.9.7"
  }
 },
 "nbformat": 4,
 "nbformat_minor": 5
}
