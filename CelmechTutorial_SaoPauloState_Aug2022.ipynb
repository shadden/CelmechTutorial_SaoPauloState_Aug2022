{
 "cells": [
  {
   "cell_type": "markdown",
   "id": "9beb694d",
   "metadata": {
    "slideshow": {
     "slide_type": "slide"
    }
   },
   "source": [
    "# Celestial mechanics with the `celmech` code\n",
    "### August 5th, 2022\n",
    "### Sao Paulo State University at Guaratingueta\n",
    "**Sam Hadden** (CITA)\n",
    "\n",
    "Collaborators: **Dan Tamayo** (Princeton)"
   ]
  },
  {
   "cell_type": "code",
   "execution_count": 1,
   "id": "a51c4e02",
   "metadata": {},
   "outputs": [],
   "source": [
    "%matplotlib inline\n",
    "import matplotlib.pyplot as plt\n",
    "import numpy as np\n",
    "from sympy import init_printing\n",
    "init_printing()"
   ]
  },
  {
   "cell_type": "markdown",
   "id": "30fe66af",
   "metadata": {
    "slideshow": {
     "slide_type": "slide"
    }
   },
   "source": [
    "# What is `celmech`?\n",
    "\n",
    "- Code for celestial mechanics calculations\n",
    "    - Calculate disturbing function expansion\n",
    "    - Construct, manipulate, and integrate Hamiltonian equations of motion\n",
    "    - Much more...\n",
    "- Developed mainly in `python`\n",
    "- Designed to work with the [`rebound`](https://github.com/hannorein/rebound) N-body code (Rein & Liu 2012)\n",
    "- Symbolic mathematics with [`sympy`](https://www.sympy.org/en/index.html) (Meurer et. al. 2017)"
   ]
  },
  {
   "cell_type": "markdown",
   "id": "e17a2ac2",
   "metadata": {
    "slideshow": {
     "slide_type": "slide"
    }
   },
   "source": [
    "# Where is `celmech`?\n",
    "\n",
    "- PyPI: ``pip install celmech``\n",
    "- GitHub reposity at [github.com/shadden/celmech](https://github.com/shadden/celmech) \n",
    "    - Includes lots of Jupyter notebook examples\n",
    "- Documentation at [celmech.readthedocs.io](https://celmech.readthedocs.io)\n",
    "- This notebook is available on [GitHub](https://github.com/shadden/celmech_talk_dda_2022.git)!"
   ]
  },
  {
   "cell_type": "code",
   "execution_count": null,
   "id": "acf31331",
   "metadata": {},
   "outputs": [],
   "source": []
  }
 ],
 "metadata": {
  "celltoolbar": "Slideshow",
  "kernelspec": {
   "display_name": "Python 3 (ipykernel)",
   "language": "python",
   "name": "python3"
  },
  "language_info": {
   "codemirror_mode": {
    "name": "ipython",
    "version": 3
   },
   "file_extension": ".py",
   "mimetype": "text/x-python",
   "name": "python",
   "nbconvert_exporter": "python",
   "pygments_lexer": "ipython3",
   "version": "3.9.7"
  }
 },
 "nbformat": 4,
 "nbformat_minor": 5
}
